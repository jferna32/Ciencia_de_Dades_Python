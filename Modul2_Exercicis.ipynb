{
 "cells": [
  {
   "cell_type": "markdown",
   "metadata": {},
   "source": [
    "PART 1. ESTRUCTURES DE DADES AMB PYTHON\n",
    "EXERCICI 1.CREA UNA LLISTA AMB ELS MESOS DE L'ANY AGRUPATS EN TRIMESTRES. ÉS A DIR, UNA LLISTA AMB 4 LLISTES A DINS."
   ]
  },
  {
   "cell_type": "code",
   "execution_count": 52,
   "metadata": {},
   "outputs": [
    {
     "data": {
      "text/plain": [
       "[['gener', 'febrer', 'març'],\n",
       " ['abril', 'maig', 'juny'],\n",
       " ['juliol', 'agost', 'setembre'],\n",
       " ['octubre', 'novembre', 'desembre']]"
      ]
     },
     "execution_count": 52,
     "metadata": {},
     "output_type": "execute_result"
    }
   ],
   "source": [
    "llista_mesos=[[\"gener\",\"febrer\",\"març\"],[\"abril\",\"maig\",\"juny\"],[\"juliol\",\"agost\",\"setembre\"],[\"octubre\",\"novembre\",\"desembre\"]]\n",
    "llista_mesos"
   ]
  },
  {
   "cell_type": "markdown",
   "metadata": {},
   "source": [
    "EXERCICI 2. CREA UN CODI QUE ET PERMETI ACCEDIR A:\n",
    "    El segon mes del tercer trimestre\n",
    "    Els mesos del primer trimestre\n",
    "    Setembre i octubre"
   ]
  },
  {
   "cell_type": "code",
   "execution_count": 53,
   "metadata": {},
   "outputs": [
    {
     "data": {
      "text/plain": [
       "'agost'"
      ]
     },
     "execution_count": 53,
     "metadata": {},
     "output_type": "execute_result"
    }
   ],
   "source": [
    "#EL TERCER TRIMESTRE ÉS L'ELEMENT AMB ÍNDEX 2 DE LA LLISTA llista_mesos. ÉS, EN SI MATEIX, UNA LLISTA\n",
    "trimestre_3=llista_mesos[2]\n",
    "#I EL SEGON MES DE LA LLISTA trimestre_3 ÉS L'ELEMENT D'ÍNDEX 1\n",
    "trimestre_3[1]"
   ]
  },
  {
   "cell_type": "code",
   "execution_count": 54,
   "metadata": {},
   "outputs": [
    {
     "data": {
      "text/plain": [
       "'agost'"
      ]
     },
     "execution_count": 54,
     "metadata": {},
     "output_type": "execute_result"
    }
   ],
   "source": [
    "#UNA ALTRA MANERA D'ACCEDIR, MÉS DIRECTA, SERIA\n",
    "llista_mesos[2][1]"
   ]
  },
  {
   "cell_type": "code",
   "execution_count": 55,
   "metadata": {},
   "outputs": [
    {
     "data": {
      "text/plain": [
       "['gener', 'febrer', 'març']"
      ]
     },
     "execution_count": 55,
     "metadata": {},
     "output_type": "execute_result"
    }
   ],
   "source": [
    "#EL PRIMER TRIMESTRE ÉS UNA LLISTA QUE, AL SEU TORN, ÉS L'ELEMENT D'ÍNDEX ZERO DE LA LLISTA llista_mesos\n",
    "trimestre_1=llista_mesos[0]\n",
    "trimestre_1"
   ]
  },
  {
   "cell_type": "code",
   "execution_count": 56,
   "metadata": {},
   "outputs": [
    {
     "data": {
      "text/plain": [
       "['gener', 'febrer', 'març']"
      ]
     },
     "execution_count": 56,
     "metadata": {},
     "output_type": "execute_result"
    }
   ],
   "source": [
    "#UNA ALTRA MANERA, MÉS DIRECTA, DE FER-HO\n",
    "llista_mesos[0]"
   ]
  },
  {
   "cell_type": "code",
   "execution_count": 57,
   "metadata": {},
   "outputs": [
    {
     "name": "stdout",
     "output_type": "stream",
     "text": [
      "setembre\n",
      "octubre\n"
     ]
    }
   ],
   "source": [
    "#setembre és l'element d'índex 2 (tercer mes) dins de l'element d'índex 2 (tercer trimestre) de llista_mesos\n",
    "#i octubre és l'element d'índex 0 (primer mes) dins de l'element d'índex 3 (quart trimestre) de llista_mesos\n",
    "print(llista_mesos[2][2])\n",
    "print(llista_mesos[3][0])"
   ]
  },
  {
   "cell_type": "markdown",
   "metadata": {},
   "source": [
    "EXERCICI 3.CREA UNA LLISTA DE NÚMEROS DESORDENATS I RESPON...\n",
    "    Quants números hi ha?\n",
    "    Quantes vegades apareix el número 3?\n",
    "    Quantes vegades apareixen els números 3 o 4?\n",
    "    Quin és el número més gran?\n",
    "    Quins són els tres nombres més petits?\n",
    "    Quin és el rang de la llista?"
   ]
  },
  {
   "cell_type": "code",
   "execution_count": 58,
   "metadata": {},
   "outputs": [
    {
     "name": "stdout",
     "output_type": "stream",
     "text": [
      "El número d'elements de la llista és 18\n",
      "El número 3 apareix 4 vegades\n",
      "Els números 3 o 4 apareixen 6 vegades en total\n",
      "El número més gran és 12\n"
     ]
    }
   ],
   "source": [
    "numeros=[3,6,8,3,1,-3,0,4,4,3,5,7,9,7,12,3,2,-1]\n",
    "print(\"El número d'elements de la llista és\",len(numeros))\n",
    "print(\"El número 3 apareix\",numeros.count(3),\"vegades\")\n",
    "print(\"Els números 3 o 4 apareixen\",numeros.count(3)+numeros.count(4),\"vegades en total\")\n",
    "print(\"El número més gran és\",max(numeros))"
   ]
  },
  {
   "cell_type": "code",
   "execution_count": 59,
   "metadata": {},
   "outputs": [
    {
     "data": {
      "text/plain": [
       "[-3, -1, 0]"
      ]
     },
     "execution_count": 59,
     "metadata": {},
     "output_type": "execute_result"
    }
   ],
   "source": [
    "#AMB sort ORDENEM LA LLISTA (DE PETIT A GRAN) I LLAVORS ELS TRES PRIMERS SÓN ELS TRES MÉS PETITS\n",
    "numeros.sort()\n",
    "numeros[:3]"
   ]
  },
  {
   "cell_type": "code",
   "execution_count": 60,
   "metadata": {},
   "outputs": [
    {
     "name": "stdout",
     "output_type": "stream",
     "text": [
      "La llista ordenada va des de -3 fins a 12\n",
      "Per tant, el rang de la llista és 15\n"
     ]
    }
   ],
   "source": [
    "print(\"La llista ordenada va des de\",min(numeros),\"fins a\",max(numeros))\n",
    "print(\"Per tant, el rang de la llista és\",max(numeros)-min(numeros))"
   ]
  },
  {
   "cell_type": "markdown",
   "metadata": {},
   "source": [
    "EXERCICI 4. Crea un diccionari de la següent forma i respon a les preguntes:\n",
    "\n",
    "compra = { \"Pomes\" : {\"Qty\": 5, \"€\": 0.42}, \"Peres\" : {\"Qty\": 3, \"€\": 0.66} } \n",
    "\n",
    "    Afegeix alguna fruita més \n",
    "    Quant han costat les peres en total? \n",
    "    Quantes fruites hem comprat en total? \n",
    "    Quina és la fruita més cara? "
   ]
  },
  {
   "cell_type": "code",
   "execution_count": 61,
   "metadata": {},
   "outputs": [
    {
     "data": {
      "text/plain": [
       "{'Pomes': {'Qty': 5, '€': 0.42},\n",
       " 'Peres': {'Qty': 3, '€': 0.66},\n",
       " 'Plàtans': {'Qty': 2, '€': 3.95}}"
      ]
     },
     "execution_count": 61,
     "metadata": {},
     "output_type": "execute_result"
    }
   ],
   "source": [
    "compra={\"Pomes\":{\"Qty\":5,\"€\":0.42},\"Peres\":{\"Qty\":3,\"€\":0.66}}\n",
    "#PODEM AFEGIR UNA FRUITA MÉS -per exemple,Plàtans- DE LA SEGÜENT MANERA\n",
    "compra[\"Plàtans\"]={\"Qty\":2,\"€\":3.95}\n",
    "compra"
   ]
  },
  {
   "cell_type": "code",
   "execution_count": 62,
   "metadata": {},
   "outputs": [
    {
     "name": "stdout",
     "output_type": "stream",
     "text": [
      "El preu de les peres és 1.98 €\n"
     ]
    }
   ],
   "source": [
    "#EL PREU DE LES PERES...\n",
    "print( \"El preu de les peres és\",compra['Peres']['Qty']*compra['Peres']['€'],\"€\")"
   ]
  },
  {
   "cell_type": "code",
   "execution_count": 63,
   "metadata": {},
   "outputs": [
    {
     "name": "stdout",
     "output_type": "stream",
     "text": [
      "La quantitat total de fruita és 10\n"
     ]
    }
   ],
   "source": [
    "#LA FRUITA COMPRADA EN TOTAL ÉS...\n",
    "print(\"La quantitat total de fruita és\",compra['Peres']['Qty']+compra['Pomes']['Qty']+compra['Plàtans']['Qty'] )"
   ]
  },
  {
   "cell_type": "code",
   "execution_count": 64,
   "metadata": {},
   "outputs": [
    {
     "name": "stdout",
     "output_type": "stream",
     "text": [
      "La fruita més cara és 3.95\n"
     ]
    }
   ],
   "source": [
    "#LA FRUITA MÉS CARA ÉS...\n",
    "print(\"La fruita més cara és\",max(compra['Peres']['€'],compra['Pomes']['€'],compra['Plàtans']['€']))"
   ]
  },
  {
   "cell_type": "code",
   "execution_count": 65,
   "metadata": {},
   "outputs": [
    {
     "name": "stdout",
     "output_type": "stream",
     "text": [
      "La fruita més cara és Plàtans\n",
      "N'hem comprat 2 kg\n",
      "El preu per kg és de 3.95 €\n"
     ]
    }
   ],
   "source": [
    "#LA FINESTRA ANTERIOR NO FA EL QUE ES DEMANA. NECESSITEM EL NOM DE LA FRUITA MÉS CARA.\n",
    "#PER COMODITAT, HE OPTAT PER FER UNA CONSULTA A CHATGPT, QUE M'HA PROPOSAT LA SEGÜENT SOLUCIÓ:\n",
    "\n",
    "producte_mes_car = max(compra.items(), key=lambda x: x[1][\"€\"])\n",
    "\n",
    "#L'EXPRESSIÓ lambda x: DEFINEIX UNA FUNCIÓ lambda AMB UN ARGUMENT x D'ENTRE ELS ELEMENTS DE LA LLISTA compra\n",
    "#x[1][\"€\"] INDICA QUE ES TRACTA DEL SEGON ELEMENT DE x (el diccionari intern) I QUE HA D'ACCEDIR AL VALOR\n",
    "#ASSOCIAT A LA CLAU \"€\" EN CADA ELEMENT.\n",
    "\n",
    "print(\"La fruita més cara és\",producte_mes_car[0])\n",
    "print(\"N'hem comprat\",producte_mes_car[1][\"Qty\"],\"kg\")\n",
    "print(\"El preu per kg és de\",producte_mes_car[1][\"€\"],\"€\")\n"
   ]
  },
  {
   "cell_type": "markdown",
   "metadata": {},
   "source": [
    "PART 2. EXERCICIS D'ESTRUCTURES DE CONTROL AMB PYTHON"
   ]
  },
  {
   "cell_type": "markdown",
   "metadata": {},
   "source": [
    "EXERCICI L'exercici consisteix a crear una funció que et classifiqui una variable numèrica en funció de l’escala Suspès/Aprovat/Notable/Excel·lent. \n",
    "\n",
    "Recorda que Suspès < 5, Aprovat > 5 i < 7, Notable > 7 i < 9 i Excel·lent > 9. "
   ]
  },
  {
   "cell_type": "code",
   "execution_count": 12,
   "metadata": {},
   "outputs": [
    {
     "data": {
      "text/plain": [
       "'Notable'"
      ]
     },
     "execution_count": 12,
     "metadata": {},
     "output_type": "execute_result"
    }
   ],
   "source": [
    "def qualificacio(mitjana_num):\n",
    "    if mitjana_num<5:\n",
    "        return \"Suspès\"\n",
    "    elif 5<=mitjana_num<7:\n",
    "        return \"Aprovat\"\n",
    "    elif 7<=mitjana_num<9:\n",
    "        return \"Notable\"\n",
    "    else:\n",
    "        return \"Excel·lent\"     \n",
    "qualificacio(8)"
   ]
  },
  {
   "cell_type": "code",
   "execution_count": 13,
   "metadata": {},
   "outputs": [
    {
     "data": {
      "text/plain": [
       "'Suspès'"
      ]
     },
     "execution_count": 13,
     "metadata": {},
     "output_type": "execute_result"
    }
   ],
   "source": [
    "qualificacio(4.2)"
   ]
  },
  {
   "cell_type": "code",
   "execution_count": 14,
   "metadata": {},
   "outputs": [
    {
     "data": {
      "text/plain": [
       "'Excel·lent'"
      ]
     },
     "execution_count": 14,
     "metadata": {},
     "output_type": "execute_result"
    }
   ],
   "source": [
    "qualificacio(9.03)"
   ]
  },
  {
   "cell_type": "code",
   "execution_count": 15,
   "metadata": {},
   "outputs": [
    {
     "data": {
      "text/plain": [
       "'Aprovat'"
      ]
     },
     "execution_count": 15,
     "metadata": {},
     "output_type": "execute_result"
    }
   ],
   "source": [
    "qualificacio(6.97)"
   ]
  },
  {
   "cell_type": "markdown",
   "metadata": {},
   "source": [
    "EXERCICI 2. Crea una funció que et pregunti dos números. T’ha de mostrar un missatge dient si el primer és més gran, el segon és més gran o són iguals. "
   ]
  },
  {
   "cell_type": "code",
   "execution_count": 52,
   "metadata": {},
   "outputs": [
    {
     "data": {
      "text/plain": [
       "'La nota de Matemàtiques és millor que la de Filosofia'"
      ]
     },
     "execution_count": 52,
     "metadata": {},
     "output_type": "execute_result"
    }
   ],
   "source": [
    "#SUPOSEM QUE ELS DOS NOMBRES QUE COMPAREM SÓN DUES NOTES\n",
    "def comparar_notes():   \n",
    "    a=float(input(\"Escriu la nota de Filosofia\"))\n",
    "    b=float(input(\"Escriu la nota de Matemàtiques\"))\n",
    "    if a<b:\n",
    "        return 'La nota de Matemàtiques és millor que la de Filosofia'\n",
    "    elif a==b:\n",
    "        return 'Les dues notes són idèntiques'\n",
    "    else:\n",
    "        return 'La nota de Matemàtiques és pitjor que la de Filosofia'\n",
    "comparar_notes()"
   ]
  },
  {
   "cell_type": "code",
   "execution_count": 55,
   "metadata": {},
   "outputs": [
    {
     "data": {
      "text/plain": [
       "'La nota de Matemàtiques és pitjor que la de Filosofia'"
      ]
     },
     "execution_count": 55,
     "metadata": {},
     "output_type": "execute_result"
    }
   ],
   "source": [
    "comparar_notes()"
   ]
  },
  {
   "cell_type": "markdown",
   "metadata": {},
   "source": [
    "EXERCICI 3\n",
    "Crea una funció que et pregunti el teu nom, i et demani un número. Si el número és 0, hauria de mostrar un missatge d’error. En cas contrari, hauria de mostrar el nom repetit tants cops com indiqui el número. Per exemple, “Joan Joan Joan”. "
   ]
  },
  {
   "cell_type": "code",
   "execution_count": 56,
   "metadata": {},
   "outputs": [
    {
     "data": {
      "text/plain": [
       "'JordiJordiJordiJordiJordiJordiJordi'"
      ]
     },
     "execution_count": 56,
     "metadata": {},
     "output_type": "execute_result"
    }
   ],
   "source": [
    "def repetir_nom():\n",
    "    nom=input(\"Quin nom vols repetir?\")\n",
    "    rep=int(input(\"Quants cops el repetim?\"))\n",
    "    if rep == 0:\n",
    "        return 'Error'\n",
    "    else:\n",
    "        return nom * rep\n",
    "repetir_nom()"
   ]
  },
  {
   "cell_type": "code",
   "execution_count": 57,
   "metadata": {},
   "outputs": [
    {
     "data": {
      "text/plain": [
       "'GuillemGuillemGuillem'"
      ]
     },
     "execution_count": 57,
     "metadata": {},
     "output_type": "execute_result"
    }
   ],
   "source": [
    "repetir_nom()"
   ]
  },
  {
   "cell_type": "code",
   "execution_count": 58,
   "metadata": {},
   "outputs": [
    {
     "data": {
      "text/plain": [
       "'Error'"
      ]
     },
     "execution_count": 58,
     "metadata": {},
     "output_type": "execute_result"
    }
   ],
   "source": [
    "repetir_nom()"
   ]
  },
  {
   "cell_type": "markdown",
   "metadata": {},
   "source": [
    "EXERCICI 4\n",
    "Crea una funció que donada una llista qualsevol, et digui si és simètrica o no. Si ho és, que et digui quants elements té."
   ]
  },
  {
   "cell_type": "code",
   "execution_count": 106,
   "metadata": {},
   "outputs": [
    {
     "data": {
      "text/plain": [
       "'La llista no és simètrica'"
      ]
     },
     "execution_count": 106,
     "metadata": {},
     "output_type": "execute_result"
    }
   ],
   "source": [
    "#DONADA UNA LLISTA QUALSEVOL, DE NO list, PODEM ORDENAR-LA EN ORDRE INVERS FENT list[::-1]\n",
    "#UNA LLISTA ÉS SIMÈTRICA SI ÉS IGUAL LLEGIDA D'ESQUERRA A DRETA QUE DE DRETA A ESQUERRA\n",
    "def es_simetrica(llista):\n",
    "    if llista==llista[::-1]:\n",
    "        missatge1=\"La llista és simètrica i té \"\n",
    "        elements=str(len(llista))\n",
    "        missatge2=\" elements\"\n",
    "        missatge=missatge1+elements+missatge2\n",
    "        return missatge\n",
    "    else:\n",
    "        return 'La llista no és simètrica'\n",
    "es_simetrica([0,1,2,4])"
   ]
  },
  {
   "cell_type": "code",
   "execution_count": 107,
   "metadata": {},
   "outputs": [
    {
     "data": {
      "text/plain": [
       "'La llista és simètrica i té 7 elements'"
      ]
     },
     "execution_count": 107,
     "metadata": {},
     "output_type": "execute_result"
    }
   ],
   "source": [
    "es_simetrica([1,4,5,0,5,4,1])"
   ]
  },
  {
   "cell_type": "markdown",
   "metadata": {},
   "source": [
    "EXERCICI 5\n",
    "Crea una funció que donada una llista, et digui quants números coincideixen amb la seva posició. Per exemple [3,4,2,0,2,3,6] el 2 i el 6 coincideixen."
   ]
  },
  {
   "cell_type": "code",
   "execution_count": 133,
   "metadata": {},
   "outputs": [
    {
     "data": {
      "text/plain": [
       "\"Hi ha  3  nombres que coincideixen amb l'índex de la seva posició\""
      ]
     },
     "execution_count": 133,
     "metadata": {},
     "output_type": "execute_result"
    }
   ],
   "source": [
    "def coincidencies(llista):\n",
    "    coincidents=[]\n",
    "    for n in range(len(llista)):\n",
    "        if n==llista[n]:\n",
    "            coincidents.append(llista[n])\n",
    "            part1=\"Hi ha  \"\n",
    "            c=str(len(coincidents))\n",
    "            part2=\"  nombres que coincideixen amb l'índex de la seva posició\"\n",
    "    return part1+c+part2\n",
    "coincidencies([0,2,2,3,7,8])"
   ]
  }
 ],
 "metadata": {
  "kernelspec": {
   "display_name": "Python 3",
   "language": "python",
   "name": "python3"
  },
  "language_info": {
   "codemirror_mode": {
    "name": "ipython",
    "version": 3
   },
   "file_extension": ".py",
   "mimetype": "text/x-python",
   "name": "python",
   "nbconvert_exporter": "python",
   "pygments_lexer": "ipython3",
   "version": "3.11.4"
  }
 },
 "nbformat": 4,
 "nbformat_minor": 2
}
